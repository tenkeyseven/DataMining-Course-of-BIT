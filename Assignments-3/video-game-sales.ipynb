{
 "metadata": {
  "language_info": {
   "codemirror_mode": {
    "name": "ipython",
    "version": 3
   },
   "file_extension": ".py",
   "mimetype": "text/x-python",
   "name": "python",
   "nbconvert_exporter": "python",
   "pygments_lexer": "ipython3",
   "version": "3.8.5"
  },
  "orig_nbformat": 2,
  "kernelspec": {
   "name": "python385jvsc74a57bd035aca4c616bbe2be3554c7c605b90908c0748cd12fc8f4f08e6a36aa29d6c924",
   "display_name": "Python 3.8.5 64-bit ('cv-base': conda)"
  }
 },
 "nbformat": 4,
 "nbformat_minor": 2,
 "cells": [
  {
   "source": [
    "# 第三次作业：Video Game Sales 电子游戏销售分析\n",
    "## 相关信息\n",
    "\n",
    "本代码是北京理工大学计算机学院 2021 数据挖掘课程的课程作业。\n",
    "+ 项目主页为：[DataMining-Course-of-BIT](https://github.com/tenkeyseven/DataMining-Course-of-BIT)\n",
    "+ 本次作业详细说明为：[Assignments 2](https://github.com/tenkeyseven/DataMining-Course-of-BIT/tree/main/Assignments-2)\n",
    "\n",
    "## 选用数据集：\n",
    "+ [Video Game Sales](https://www.kaggle.com/gregorut/videogamesales): Analyze sales data from more than 16,500 games.\n",
    "\n",
    "## 处理代码：\n",
    "+ 对 [Video Game Sales](https://www.kaggle.com/gregorut/videogamesales) 数据集，处理代码为：[video-game-sales.ipynb](./video-game-sales.ipynb)\n",
    "\n",
    "## 作业要求：\n",
    "+ 电子游戏市场分析：受欢迎的游戏、类型、发布平台、发行人等\n",
    "+ 预测每年电子游戏销售额\n",
    "+ 可视化应用：如何完整清晰地展示这个销售故事"
   ],
   "cell_type": "markdown",
   "metadata": {}
  },
  {
   "source": [
    "## 实验过程"
   ],
   "cell_type": "markdown",
   "metadata": {}
  },
  {
   "source": [
    "### 1.数据读取\n"
   ],
   "cell_type": "markdown",
   "metadata": {}
  },
  {
   "cell_type": "code",
   "execution_count": 2,
   "metadata": {},
   "outputs": [],
   "source": [
    "%matplotlib inline\n",
    "import matplotlib\n",
    "import matplotlib.pyplot as plt\n",
    "import pandas as pd\n",
    "import tqdm\n",
    "from rich.progress import track\n",
    "from sklearn.linear_model import LinearRegression\n",
    "import numpy as np\n",
    "import warnings\n",
    "warnings.filterwarnings('ignore')"
   ]
  },
  {
   "cell_type": "code",
   "execution_count": 3,
   "metadata": {},
   "outputs": [
    {
     "output_type": "stream",
     "name": "stdout",
     "text": [
      "属性类别数: 11\n总行数: 16598\n示例数据:\n"
     ]
    },
    {
     "output_type": "execute_result",
     "data": {
      "text/plain": [
       "   Rank                      Name Platform    Year         Genre Publisher  \\\n",
       "0     1                Wii Sports      Wii  2006.0        Sports  Nintendo   \n",
       "1     2         Super Mario Bros.      NES  1985.0      Platform  Nintendo   \n",
       "2     3            Mario Kart Wii      Wii  2008.0        Racing  Nintendo   \n",
       "3     4         Wii Sports Resort      Wii  2009.0        Sports  Nintendo   \n",
       "4     5  Pokemon Red/Pokemon Blue       GB  1996.0  Role-Playing  Nintendo   \n",
       "\n",
       "   NA_Sales  EU_Sales  JP_Sales  Other_Sales  Global_Sales  \n",
       "0     41.49     29.02      3.77         8.46         82.74  \n",
       "1     29.08      3.58      6.81         0.77         40.24  \n",
       "2     15.85     12.88      3.79         3.31         35.82  \n",
       "3     15.75     11.01      3.28         2.96         33.00  \n",
       "4     11.27      8.89     10.22         1.00         31.37  "
      ],
      "text/html": "<div>\n<style scoped>\n    .dataframe tbody tr th:only-of-type {\n        vertical-align: middle;\n    }\n\n    .dataframe tbody tr th {\n        vertical-align: top;\n    }\n\n    .dataframe thead th {\n        text-align: right;\n    }\n</style>\n<table border=\"1\" class=\"dataframe\">\n  <thead>\n    <tr style=\"text-align: right;\">\n      <th></th>\n      <th>Rank</th>\n      <th>Name</th>\n      <th>Platform</th>\n      <th>Year</th>\n      <th>Genre</th>\n      <th>Publisher</th>\n      <th>NA_Sales</th>\n      <th>EU_Sales</th>\n      <th>JP_Sales</th>\n      <th>Other_Sales</th>\n      <th>Global_Sales</th>\n    </tr>\n  </thead>\n  <tbody>\n    <tr>\n      <th>0</th>\n      <td>1</td>\n      <td>Wii Sports</td>\n      <td>Wii</td>\n      <td>2006.0</td>\n      <td>Sports</td>\n      <td>Nintendo</td>\n      <td>41.49</td>\n      <td>29.02</td>\n      <td>3.77</td>\n      <td>8.46</td>\n      <td>82.74</td>\n    </tr>\n    <tr>\n      <th>1</th>\n      <td>2</td>\n      <td>Super Mario Bros.</td>\n      <td>NES</td>\n      <td>1985.0</td>\n      <td>Platform</td>\n      <td>Nintendo</td>\n      <td>29.08</td>\n      <td>3.58</td>\n      <td>6.81</td>\n      <td>0.77</td>\n      <td>40.24</td>\n    </tr>\n    <tr>\n      <th>2</th>\n      <td>3</td>\n      <td>Mario Kart Wii</td>\n      <td>Wii</td>\n      <td>2008.0</td>\n      <td>Racing</td>\n      <td>Nintendo</td>\n      <td>15.85</td>\n      <td>12.88</td>\n      <td>3.79</td>\n      <td>3.31</td>\n      <td>35.82</td>\n    </tr>\n    <tr>\n      <th>3</th>\n      <td>4</td>\n      <td>Wii Sports Resort</td>\n      <td>Wii</td>\n      <td>2009.0</td>\n      <td>Sports</td>\n      <td>Nintendo</td>\n      <td>15.75</td>\n      <td>11.01</td>\n      <td>3.28</td>\n      <td>2.96</td>\n      <td>33.00</td>\n    </tr>\n    <tr>\n      <th>4</th>\n      <td>5</td>\n      <td>Pokemon Red/Pokemon Blue</td>\n      <td>GB</td>\n      <td>1996.0</td>\n      <td>Role-Playing</td>\n      <td>Nintendo</td>\n      <td>11.27</td>\n      <td>8.89</td>\n      <td>10.22</td>\n      <td>1.00</td>\n      <td>31.37</td>\n    </tr>\n  </tbody>\n</table>\n</div>"
     },
     "metadata": {},
     "execution_count": 3
    }
   ],
   "source": [
    "data = pd.read_csv('../Datasets/vgsales.csv')\n",
    "print('属性类别数:', len(data.columns))\n",
    "print('总行数:', len(data))\n",
    "print('示例数据:')\n",
    "data.head(5)"
   ]
  },
  {
   "source": [
    "### 2.数据清洗"
   ],
   "cell_type": "markdown",
   "metadata": {}
  },
  {
   "cell_type": "code",
   "execution_count": 6,
   "metadata": {},
   "outputs": [
    {
     "output_type": "execute_result",
     "data": {
      "text/plain": [
       "Year         271\n",
       "Publisher     58\n",
       "dtype: int64"
      ]
     },
     "metadata": {},
     "execution_count": 6
    }
   ],
   "source": [
    "data.isnull().sum()[data.isnull().sum()!=0]\n"
   ]
  },
  {
   "cell_type": "code",
   "execution_count": 7,
   "metadata": {},
   "outputs": [],
   "source": [
    "data = data.dropna(how='any')"
   ]
  },
  {
   "source": [
    "### 3.1 查看最受欢迎的游戏排行"
   ],
   "cell_type": "markdown",
   "metadata": {}
  },
  {
   "cell_type": "code",
   "execution_count": 9,
   "metadata": {},
   "outputs": [
    {
     "output_type": "execute_result",
     "data": {
      "text/plain": [
       "   Rank                       Name\n",
       "0     1                 Wii Sports\n",
       "1     2          Super Mario Bros.\n",
       "2     3             Mario Kart Wii\n",
       "3     4          Wii Sports Resort\n",
       "4     5   Pokemon Red/Pokemon Blue\n",
       "5     6                     Tetris\n",
       "6     7      New Super Mario Bros.\n",
       "7     8                   Wii Play\n",
       "8     9  New Super Mario Bros. Wii\n",
       "9    10                  Duck Hunt"
      ],
      "text/html": "<div>\n<style scoped>\n    .dataframe tbody tr th:only-of-type {\n        vertical-align: middle;\n    }\n\n    .dataframe tbody tr th {\n        vertical-align: top;\n    }\n\n    .dataframe thead th {\n        text-align: right;\n    }\n</style>\n<table border=\"1\" class=\"dataframe\">\n  <thead>\n    <tr style=\"text-align: right;\">\n      <th></th>\n      <th>Rank</th>\n      <th>Name</th>\n    </tr>\n  </thead>\n  <tbody>\n    <tr>\n      <th>0</th>\n      <td>1</td>\n      <td>Wii Sports</td>\n    </tr>\n    <tr>\n      <th>1</th>\n      <td>2</td>\n      <td>Super Mario Bros.</td>\n    </tr>\n    <tr>\n      <th>2</th>\n      <td>3</td>\n      <td>Mario Kart Wii</td>\n    </tr>\n    <tr>\n      <th>3</th>\n      <td>4</td>\n      <td>Wii Sports Resort</td>\n    </tr>\n    <tr>\n      <th>4</th>\n      <td>5</td>\n      <td>Pokemon Red/Pokemon Blue</td>\n    </tr>\n    <tr>\n      <th>5</th>\n      <td>6</td>\n      <td>Tetris</td>\n    </tr>\n    <tr>\n      <th>6</th>\n      <td>7</td>\n      <td>New Super Mario Bros.</td>\n    </tr>\n    <tr>\n      <th>7</th>\n      <td>8</td>\n      <td>Wii Play</td>\n    </tr>\n    <tr>\n      <th>8</th>\n      <td>9</td>\n      <td>New Super Mario Bros. Wii</td>\n    </tr>\n    <tr>\n      <th>9</th>\n      <td>10</td>\n      <td>Duck Hunt</td>\n    </tr>\n  </tbody>\n</table>\n</div>"
     },
     "metadata": {},
     "execution_count": 9
    }
   ],
   "source": [
    "data_rank = data[['Rank', 'Name']].sort_values(by='Rank')\n",
    "data_rank.head(10)"
   ]
  },
  {
   "source": [
    "### 3.2 查看最受欢迎的游戏类型"
   ],
   "cell_type": "markdown",
   "metadata": {}
  },
  {
   "cell_type": "code",
   "execution_count": 12,
   "metadata": {},
   "outputs": [
    {
     "output_type": "execute_result",
     "data": {
      "text/plain": [
       "              Global_Sales\n",
       "Genre                     \n",
       "Action             1722.84\n",
       "Sports             1309.24\n",
       "Shooter            1026.20\n",
       "Role-Playing        923.83\n",
       "Platform            829.13\n",
       "Misc                789.87\n",
       "Racing              726.76\n",
       "Fighting            444.05\n",
       "Simulation          389.98\n",
       "Puzzle              242.21"
      ],
      "text/html": "<div>\n<style scoped>\n    .dataframe tbody tr th:only-of-type {\n        vertical-align: middle;\n    }\n\n    .dataframe tbody tr th {\n        vertical-align: top;\n    }\n\n    .dataframe thead th {\n        text-align: right;\n    }\n</style>\n<table border=\"1\" class=\"dataframe\">\n  <thead>\n    <tr style=\"text-align: right;\">\n      <th></th>\n      <th>Global_Sales</th>\n    </tr>\n    <tr>\n      <th>Genre</th>\n      <th></th>\n    </tr>\n  </thead>\n  <tbody>\n    <tr>\n      <th>Action</th>\n      <td>1722.84</td>\n    </tr>\n    <tr>\n      <th>Sports</th>\n      <td>1309.24</td>\n    </tr>\n    <tr>\n      <th>Shooter</th>\n      <td>1026.20</td>\n    </tr>\n    <tr>\n      <th>Role-Playing</th>\n      <td>923.83</td>\n    </tr>\n    <tr>\n      <th>Platform</th>\n      <td>829.13</td>\n    </tr>\n    <tr>\n      <th>Misc</th>\n      <td>789.87</td>\n    </tr>\n    <tr>\n      <th>Racing</th>\n      <td>726.76</td>\n    </tr>\n    <tr>\n      <th>Fighting</th>\n      <td>444.05</td>\n    </tr>\n    <tr>\n      <th>Simulation</th>\n      <td>389.98</td>\n    </tr>\n    <tr>\n      <th>Puzzle</th>\n      <td>242.21</td>\n    </tr>\n  </tbody>\n</table>\n</div>"
     },
     "metadata": {},
     "execution_count": 12
    }
   ],
   "source": [
    "data_genre=data[['Genre', 'Global_Sales']].groupby('Genre').sum().sort_values(by='Global_Sales', ascending=False)\n",
    "data_genre.head(10)"
   ]
  },
  {
   "source": [
    "### 3.3 查看最受欢迎的发行平台"
   ],
   "cell_type": "markdown",
   "metadata": {}
  },
  {
   "cell_type": "code",
   "execution_count": 13,
   "metadata": {},
   "outputs": [
    {
     "output_type": "execute_result",
     "data": {
      "text/plain": [
       "          Global_Sales\n",
       "Platform              \n",
       "PS2            1233.46\n",
       "X360            969.60\n",
       "PS3             949.35\n",
       "Wii             909.81\n",
       "DS              818.91\n",
       "PS              727.39\n",
       "GBA             305.62\n",
       "PSP             291.71\n",
       "PS4             278.10\n",
       "PC              254.70"
      ],
      "text/html": "<div>\n<style scoped>\n    .dataframe tbody tr th:only-of-type {\n        vertical-align: middle;\n    }\n\n    .dataframe tbody tr th {\n        vertical-align: top;\n    }\n\n    .dataframe thead th {\n        text-align: right;\n    }\n</style>\n<table border=\"1\" class=\"dataframe\">\n  <thead>\n    <tr style=\"text-align: right;\">\n      <th></th>\n      <th>Global_Sales</th>\n    </tr>\n    <tr>\n      <th>Platform</th>\n      <th></th>\n    </tr>\n  </thead>\n  <tbody>\n    <tr>\n      <th>PS2</th>\n      <td>1233.46</td>\n    </tr>\n    <tr>\n      <th>X360</th>\n      <td>969.60</td>\n    </tr>\n    <tr>\n      <th>PS3</th>\n      <td>949.35</td>\n    </tr>\n    <tr>\n      <th>Wii</th>\n      <td>909.81</td>\n    </tr>\n    <tr>\n      <th>DS</th>\n      <td>818.91</td>\n    </tr>\n    <tr>\n      <th>PS</th>\n      <td>727.39</td>\n    </tr>\n    <tr>\n      <th>GBA</th>\n      <td>305.62</td>\n    </tr>\n    <tr>\n      <th>PSP</th>\n      <td>291.71</td>\n    </tr>\n    <tr>\n      <th>PS4</th>\n      <td>278.10</td>\n    </tr>\n    <tr>\n      <th>PC</th>\n      <td>254.70</td>\n    </tr>\n  </tbody>\n</table>\n</div>"
     },
     "metadata": {},
     "execution_count": 13
    }
   ],
   "source": [
    "data_platform=data[['Platform', 'Global_Sales']].groupby('Platform').sum().sort_values(by='Global_Sales', ascending=False)\n",
    "data_platform.head(10)"
   ]
  },
  {
   "source": [
    "### 3.4 查看最受欢迎的发行人"
   ],
   "cell_type": "markdown",
   "metadata": {}
  },
  {
   "cell_type": "code",
   "execution_count": 14,
   "metadata": {},
   "outputs": [
    {
     "output_type": "execute_result",
     "data": {
      "text/plain": [
       "                              Global_Sales\n",
       "Publisher                                 \n",
       "Nintendo                           1784.43\n",
       "Electronic Arts                    1093.39\n",
       "Activision                          721.41\n",
       "Sony Computer Entertainment         607.28\n",
       "Ubisoft                             473.54\n",
       "Take-Two Interactive                399.30\n",
       "THQ                                 340.44\n",
       "Konami Digital Entertainment        278.56\n",
       "Sega                                270.70\n",
       "Namco Bandai Games                  253.65"
      ],
      "text/html": "<div>\n<style scoped>\n    .dataframe tbody tr th:only-of-type {\n        vertical-align: middle;\n    }\n\n    .dataframe tbody tr th {\n        vertical-align: top;\n    }\n\n    .dataframe thead th {\n        text-align: right;\n    }\n</style>\n<table border=\"1\" class=\"dataframe\">\n  <thead>\n    <tr style=\"text-align: right;\">\n      <th></th>\n      <th>Global_Sales</th>\n    </tr>\n    <tr>\n      <th>Publisher</th>\n      <th></th>\n    </tr>\n  </thead>\n  <tbody>\n    <tr>\n      <th>Nintendo</th>\n      <td>1784.43</td>\n    </tr>\n    <tr>\n      <th>Electronic Arts</th>\n      <td>1093.39</td>\n    </tr>\n    <tr>\n      <th>Activision</th>\n      <td>721.41</td>\n    </tr>\n    <tr>\n      <th>Sony Computer Entertainment</th>\n      <td>607.28</td>\n    </tr>\n    <tr>\n      <th>Ubisoft</th>\n      <td>473.54</td>\n    </tr>\n    <tr>\n      <th>Take-Two Interactive</th>\n      <td>399.30</td>\n    </tr>\n    <tr>\n      <th>THQ</th>\n      <td>340.44</td>\n    </tr>\n    <tr>\n      <th>Konami Digital Entertainment</th>\n      <td>278.56</td>\n    </tr>\n    <tr>\n      <th>Sega</th>\n      <td>270.70</td>\n    </tr>\n    <tr>\n      <th>Namco Bandai Games</th>\n      <td>253.65</td>\n    </tr>\n  </tbody>\n</table>\n</div>"
     },
     "metadata": {},
     "execution_count": 14
    }
   ],
   "source": [
    "data_publisher=data[['Publisher', 'Global_Sales']].groupby('Publisher').sum().sort_values(by='Global_Sales', ascending=False)\n",
    "data_publisher.head(10)"
   ]
  },
  {
   "source": [
    "### 4.预测每年电子游戏销售额"
   ],
   "cell_type": "markdown",
   "metadata": {}
  },
  {
   "cell_type": "code",
   "execution_count": null,
   "metadata": {},
   "outputs": [],
   "source": []
  }
 ]
}